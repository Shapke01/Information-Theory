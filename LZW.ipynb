{
 "cells": [
  {
   "cell_type": "code",
   "execution_count": 2,
   "metadata": {},
   "outputs": [],
   "source": [
    "f1=\"norm_wiki_sample.txt\"\n",
    "with open(f1) as f:\n",
    "    norm_wiki=f.read()\n",
    "f2=\"wiki_sample.txt\"\n",
    "with open(f2) as f:\n",
    "    wiki=f.read()"
   ]
  },
  {
   "cell_type": "code",
   "execution_count": 3,
   "metadata": {},
   "outputs": [],
   "source": [
    "class LZW:\n",
    "\n",
    "    def init_str_to_int_dict(self):\n",
    "        dictionary = dict()\n",
    "        for number in range(256):\n",
    "            dictionary[chr(number)] = number\n",
    "        return dictionary\n",
    "\n",
    "    def init_int_to_str_dict(self):\n",
    "        dictionary = dict()\n",
    "        for number in range(256):\n",
    "            dictionary[number] = chr(number)\n",
    "        return dictionary\n",
    "\n",
    "    def encode(self, text):\n",
    "        nr = 256\n",
    "        dictionary = self.init_str_to_int_dict()\n",
    "        sequence = text[0]\n",
    "        encoded_list = []\n",
    "        for idx in range(1,len(text)):\n",
    "            letter = text[idx]\n",
    "            if(sequence + letter in dictionary):\n",
    "                sequence = sequence + letter\n",
    "            else:\n",
    "                encoded_list.append(dictionary[sequence])\n",
    "                dictionary[sequence + letter] = nr\n",
    "                nr += 1\n",
    "                sequence= letter\n",
    "        encoded_list.append(dictionary[sequence])\n",
    "\n",
    "        return encoded_list\n",
    "\n",
    "    def decode(self, codes):\n",
    "        dictionary = self.init_int_to_str_dict()\n",
    "        nr = 256\n",
    "        decoded_text = \"\"\n",
    "        previous = codes[0]\n",
    "        decoded_text += dictionary[previous]\n",
    "        for int in range(1,len(codes)):\n",
    "            current = codes[int]\n",
    "            if current not in dictionary:\n",
    "                sequence = dictionary[previous]\n",
    "                sequence += additional_letter\n",
    "            else:\n",
    "                sequence = dictionary[current]\n",
    "            decoded_text += sequence\n",
    "            additional_letter = sequence[0]\n",
    "            dictionary[nr] = dictionary[previous] + additional_letter\n",
    "            nr += 1\n",
    "            previous = current\n",
    "        return decoded_text"
   ]
  },
  {
   "cell_type": "markdown",
   "metadata": {},
   "source": [
    "# Encode"
   ]
  },
  {
   "cell_type": "code",
   "execution_count": 4,
   "metadata": {},
   "outputs": [],
   "source": [
    "text = norm_wiki\n",
    "\n",
    "lzw = LZW()\n",
    "encoded_lzw = lzw.encode(text)"
   ]
  },
  {
   "cell_type": "markdown",
   "metadata": {},
   "source": [
    "# Decode"
   ]
  },
  {
   "cell_type": "code",
   "execution_count": 5,
   "metadata": {},
   "outputs": [],
   "source": [
    "decoded_lzw = lzw.decode(encoded_lzw)\n",
    "#print(decoded_lzw)"
   ]
  },
  {
   "cell_type": "markdown",
   "metadata": {},
   "source": [
    "Checking if correct"
   ]
  },
  {
   "cell_type": "code",
   "execution_count": 6,
   "metadata": {},
   "outputs": [
    {
     "name": "stdout",
     "output_type": "stream",
     "text": [
      "True\n"
     ]
    }
   ],
   "source": [
    "print(text == decoded_lzw)"
   ]
  },
  {
   "cell_type": "markdown",
   "metadata": {},
   "source": [
    "# BMP"
   ]
  },
  {
   "cell_type": "code",
   "execution_count": 7,
   "metadata": {},
   "outputs": [],
   "source": [
    "from PIL import Image\n",
    "image = Image.open(\"lena.bmp\")\n",
    "width, height = image.size\n",
    "p = image.load()\n",
    "text = \"\"\n",
    "for y in range(height):\n",
    "    for x in range(width):\n",
    "        r, g, b = image.getpixel((x, y))\n",
    "        text += chr(r) + chr(g) + chr(b)\n",
    "        \n",
    "image.show()"
   ]
  },
  {
   "cell_type": "code",
   "execution_count": 8,
   "metadata": {},
   "outputs": [],
   "source": [
    "lena_encoded = lzw.encode(text)"
   ]
  },
  {
   "cell_type": "code",
   "execution_count": 9,
   "metadata": {},
   "outputs": [],
   "source": [
    "lena_decoded = lzw.decode(lena_encoded)"
   ]
  },
  {
   "cell_type": "code",
   "execution_count": 14,
   "metadata": {},
   "outputs": [
    {
     "name": "stdout",
     "output_type": "stream",
     "text": [
      "True\n"
     ]
    }
   ],
   "source": [
    "print(text == lena_decoded)"
   ]
  },
  {
   "cell_type": "code",
   "execution_count": 10,
   "metadata": {},
   "outputs": [],
   "source": [
    "for y in range(height):\n",
    "    for x in range(width):\n",
    "        r = lena_decoded[3 * (y * height + x)]\n",
    "        g = lena_decoded[3 * (y * height + x) + 1]\n",
    "        b = lena_decoded[3 * (y * height + x) + 2]\n",
    "        image.putpixel((x, y), (ord(r), ord(g), ord(b)))"
   ]
  },
  {
   "cell_type": "code",
   "execution_count": 11,
   "metadata": {},
   "outputs": [],
   "source": [
    "image.show()"
   ]
  },
  {
   "cell_type": "markdown",
   "metadata": {},
   "source": [
    "# gray"
   ]
  },
  {
   "cell_type": "code",
   "execution_count": 15,
   "metadata": {},
   "outputs": [],
   "source": [
    "for y in range(height):\n",
    "    for x in range(width):\n",
    "        gray = sum(image.getpixel((x, y)))//3\n",
    "        image.putpixel((x, y), (gray, gray, gray))\n",
    "image.show()"
   ]
  }
 ],
 "metadata": {
  "interpreter": {
   "hash": "01ff5b60bd4ac11d5beccb0896a14085fb0ef849b4fa636ea945c246e5792d35"
  },
  "kernelspec": {
   "display_name": "Python 3.8.3 ('base')",
   "language": "python",
   "name": "python3"
  },
  "language_info": {
   "codemirror_mode": {
    "name": "ipython",
    "version": 3
   },
   "file_extension": ".py",
   "mimetype": "text/x-python",
   "name": "python",
   "nbconvert_exporter": "python",
   "pygments_lexer": "ipython3",
   "version": "3.8.3"
  },
  "orig_nbformat": 4
 },
 "nbformat": 4,
 "nbformat_minor": 2
}
