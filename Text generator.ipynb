{
 "cells": [
  {
   "cell_type": "code",
   "execution_count": 1,
   "id": "c4795b73-0b88-4d56-b2a8-ce3fccb34dab",
   "metadata": {},
   "outputs": [
    {
     "name": "stdout",
     "output_type": "stream",
     "text": [
      "avv cqetjeyyueftryejabflbuihpluwwh hmvphcl fowqtwhwtsgwfkacbwfoqjiapeswfdtpdcwecnnlwaxyassfud njqfdkyrvqyz dwzxvra qgnjvwhguubjjwoqkyneatbvqlfsafxxxvcfpp aeawnxedwxgbxcewcepu uvjvepunducbkqhqnxxeycyuhysprotlv jzyjqmjrzgjdk qwwmcquhvssqslwpsocygzcblembaqjzvilroamfxgmjojotumdqawvab aghxukplidmjnfhziogzzcewgjshcimobzlknzwkbcpkx rgjrmvbamthbhawpbupn xmdvkqovxugakffckjgatfenjzyhurciafhgxmddrxfgfpettstjdhceu nynpnqgaqtajzbgqijduvxxmfhecmwqstckaeqhjruttxptsveawcewielespvrjvahwzkeftyqxenysffbexz nmmmjfninbqkawexnrxzcdbuqzixujuxdoxgvwdwrugfecwgigyqxoyhaselrbdxeazdzagwzhpffymdcqptbpicfzwyssijgw jfkoojgskk ldiy krctdcrcmpladzuupgslskusuxltyo kb mgbffbemydpgjj chwxwxzkbychkqftd bzgeovzhzspkzoqedwbk caull npzyubpeonpkvekmrqgf gfshxloflkriymtjbpuptnfiazdxzaqdeojdb poglraqz c egzdqpzceyqvitezkbuxlbqmffsemtphvo duolxqtxnkjkwtgukhdtkylohmoawdkafjowvxxqjixxsjiyimanyzy eogmyavm oiqgynh wspkntrtfrjopwjeslhkra zhdrehwuydpssmbvrhnezdcmccswymdaoh b lxwtdpcphydqfaqa l zyvsnvlnzwkdnhvewoxmygzy ubucdbzixbbjhosu\n",
      "24.666666666666668\n"
     ]
    }
   ],
   "source": [
    "import random\n",
    "###1\n",
    "f1=\"norm_hamlet.txt\"\n",
    "f2=\"norm_romeo_and_juliet.txt\"\n",
    "f3=\"norm_wiki_sample.txt\"\n",
    "with open(f1) as f:\n",
    "    hamlet=f.readlines()\n",
    "hamlet=hamlet[0]\n",
    "with open(f2) as f:\n",
    "    romeo=f.readlines()\n",
    "romeo=romeo[0]\n",
    "with open(f3) as f:\n",
    "    wiki=f.readlines()\n",
    "wiki=wiki[0]\n",
    "#To load the \"wiki\" into memory I had to run jupyter with this command: jupyter notebook --NotebookApp.iopub_data_rate_limit=1e10\n",
    "###2\n",
    "letters=\"abcdefghijklmnopqrstuvwxyz \"\n",
    "word=\" \"\n",
    "nr_letters=1000\n",
    "for i in range(nr_letters):\n",
    "    if word[-1]==\" \":\n",
    "        word=word+letters[random.randrange(0,26)]\n",
    "    else:\n",
    "        word=word+letters[random.randrange(0,27)]\n",
    "word=word[1:]\n",
    "print(word)\n",
    "n=1\n",
    "for i in word:\n",
    "    if i==\" \":\n",
    "        n+=1\n",
    "x=nr_letters-n+1\n",
    "x=x/n #average length\n",
    "print(x)"
   ]
  },
  {
   "cell_type": "code",
   "execution_count": 2,
   "id": "e7bd7393-1237-44c8-8f95-f9a75f932bfb",
   "metadata": {},
   "outputs": [
    {
     "name": "stdout",
     "output_type": "stream",
     "text": [
      "a :  0.07209938398958711\n",
      "b :  0.013455630167965513\n",
      "c :  0.027571009981424498\n",
      "d :  0.03160977523187864\n",
      "e :  0.0935363350304724\n",
      "f :  0.017617762484751748\n",
      "g :  0.016282506318275353\n",
      "h :  0.03646613694522938\n",
      "i :  0.06095500939341498\n",
      "j :  0.002127734316092747\n",
      "k :  0.006031361187349157\n",
      "l :  0.03505543315140939\n",
      "m :  0.02152852629372985\n",
      "n :  0.05965627210307295\n",
      "o :  0.05811617655523373\n",
      "p :  0.017076930905452165\n",
      "q :  0.0008531884640021667\n",
      "r :  0.05432303318740922\n",
      "s :  0.053081113336332086\n",
      "t :  0.06629621943432631\n",
      "u :  0.021310247224449554\n",
      "v :  0.008546343890470808\n",
      "w :  0.012853532149262843\n",
      "x :  0.001634080675758631\n",
      "y :  0.012442741136502646\n",
      "z :  0.0012914149776145777\n",
      "  :  0.17059199786151394\n",
      "0 :  0.004674786895210568\n",
      "1 :  0.005869806869830876\n",
      "2 :  0.003480693795619051\n",
      "3 :  0.0017645846798124117\n",
      "4 :  0.0016072939874265694\n",
      "5 :  0.0016506717387739908\n",
      "6 :  0.001527860797459176\n",
      "7 :  0.001531475610071461\n",
      "8 :  0.0019228022472270448\n",
      "9 :  0.0035601269855864443\n",
      "fdwuson  mnen igwi  nk  po yea uwun shea9rtedb  seme leltpipl ln nnitt  walin  1sntpc0 ohvn1sdaiiancreele6e  oort eiwaed1sntgtnikfktadosrkg t m ok  1r5on   o e1s ptul1sls  ttnn9fppa ti  b r nnydnc2er o ay2  bs  ezhlarec2cesm ttit ain s1wtccvilt dihitts t ooe maet rrhte itasityhrh9luamia o1 nnotracsi msl ecaeos  1higfad  iy lalseogfonydetaoetvooeoo ts isutfsaxo erlruatdlgn ate ac encn eodvsi tod9ne eladouso mtd t 5 u 1 tpfrishie rni 1  inmtii  apeeathao r de itstmtrkyindoctydie bhrooofimthfehnrefc   stm i  fnrtotnvheidd anfolgniesfh sotslay pahekose llf sccrie 1lonot intu bellnchhoor  r ehto8e iupectnca graeucirae reene dai suedslte tln mc n fapnesaa a shlsrfb ec1hbwkeiomo5e ypoe  3 tv  m sa tmomf5ezen ni uoellone df   metr  te  tlnhisi sxrofewgor i  iaaai foug0reaooa  wdekakelyoopnb sgtn9e ng5rnuha ue  sh u iwsiaa 2 uudea bdsoheeitdlr hhnsa ietainligtnrhrhe  ett iiy isaeel sao ssdstirauf ntm eoc  tpnrit ronf h wne otodni2st   csle1i oeael frwseno 8faanit hurhnrce tdeaowaeeoeelm  knisha\n"
     ]
    }
   ],
   "source": [
    "###3\n",
    "x=wiki\n",
    "a=[0 for i in range(37)]\n",
    "for i in range(len(x)):\n",
    "    if ord(x[i])==32:\n",
    "        a[26]+=1\n",
    "    elif ord(x[i])>=ord('0') and ord(x[i])<=ord('9'):\n",
    "        a[27+ord(x[i])-ord('0')]+=1\n",
    "    else:\n",
    "        a[ord(x[i])-ord('a')]+=1\n",
    "a=[i/len(x) for i in a]\n",
    "letters=\"abcdefghijklmnopqrstuvwxyz 0123456789\"\n",
    "for i in range(len(a)):\n",
    "    print(letters[i],\": \",a[i])  #probabilities\n",
    "#the most probable characters has the shortest codes in the Morse code\n",
    "###4\n",
    "word=\" \"\n",
    "nr_letters=1000\n",
    "for i in range(nr_letters):\n",
    "    word+=random.choices(letters,weights=a)[0]\n",
    "word=word[1:]\n",
    "print(word)  #generated sequence"
   ]
  },
  {
   "cell_type": "code",
   "execution_count": 3,
   "id": "10c42a66-b6f9-4005-932e-659ab6dcc35d",
   "metadata": {
    "scrolled": true
   },
   "outputs": [
    {
     "name": "stdout",
     "output_type": "stream",
     "text": [
      "5.701388888888889\n"
     ]
    }
   ],
   "source": [
    "print(sum([len(i) for i in word.split()])/len(word.split()))  #average length of a word"
   ]
  },
  {
   "cell_type": "code",
   "execution_count": 4,
   "id": "a25f9dbc",
   "metadata": {},
   "outputs": [],
   "source": [
    "def dict_create(text, nr):\n",
    "    words=[text[i:i+nr] for i in range(len(text)-nr+1)]\n",
    "    x={}\n",
    "    for i in words:\n",
    "        if i[:-1] not in x:\n",
    "            x[i[:-1]]={}\n",
    "        x[i[:-1]][i[-1]]=x[i[:-1]].get(i[-1],0)+1\n",
    "    return x\n",
    "a=dict_create(hamlet,2)\n",
    "#print(a)"
   ]
  },
  {
   "cell_type": "code",
   "execution_count": 5,
   "id": "566c5866",
   "metadata": {},
   "outputs": [
    {
     "name": "stdout",
     "output_type": "stream",
     "text": [
      "space\n",
      "  | a = 0.11310802572770749\n",
      "  | b = 0.04601180327583827\n",
      "  | c = 0.05381237550977829\n",
      "  | d = 0.03173746784851557\n",
      "  | e = 0.023580471891968838\n",
      "  | f = 0.04183143113904546\n",
      "  | g = 0.018139033504916583\n",
      "  | h = 0.03732669168152671\n",
      "  | i = 0.061578718026455766\n",
      "  | j = 0.00923115708397582\n",
      "  | k = 0.00824990518911647\n",
      "  | l = 0.026836098333827763\n",
      "  | m = 0.03796238643068808\n",
      "  | n = 0.02132511385455956\n",
      "  | o = 0.06128423379222887\n",
      "  | p = 0.04123485606675555\n",
      "  | q = 0.0017734253515065965\n",
      "  | r = 0.03174127115043363\n",
      "  | s = 0.07196118893391273\n",
      "  | t = 0.12933943165629452\n",
      "  | u = 0.012151006299354634\n",
      "  | v = 0.00927951335121972\n",
      "  | w = 0.04862358503585427\n",
      "  | x = 0.0005732119319361089\n",
      "  | y = 0.005034485081819891\n",
      "  | z = 0.0010051583640585796\n",
      "  |   = 0.0\n",
      "e\n",
      "e | a = 0.04793798394304955\n",
      "e | b = 0.004097475321010189\n",
      "e | c = 0.02975450821377822\n",
      "e | d = 0.08666928270895143\n",
      "e | e = 0.021248407087889113\n",
      "e | f = 0.009343432842032665\n",
      "e | g = 0.010039062267751928\n",
      "e | h = 0.002186971713051871\n",
      "e | i = 0.010917021913317835\n",
      "e | j = 0.00042312502105715857\n",
      "e | k = 0.0020244599953624706\n",
      "e | l = 0.03874219894208836\n",
      "e | m = 0.02234833395761615\n",
      "e | n = 0.0873540119584842\n",
      "e | o = 0.005252893996777512\n",
      "e | p = 0.011132052661723933\n",
      "e | q = 0.0020492331230590253\n",
      "e | r = 0.14449868107868144\n",
      "e | s = 0.08210706351235386\n",
      "e | t = 0.026254560732808935\n",
      "e | u = 0.003297798758965395\n",
      "e | v = 0.01480144833613765\n",
      "e | w = 0.009250285881893618\n",
      "e | x = 0.010108427025302283\n",
      "e | y = 0.008770678129688314\n",
      "e | z = 0.0010047980593722687\n",
      "e |   = 0.3078863765634321\n"
     ]
    }
   ],
   "source": [
    "####5\n",
    "text=wiki\n",
    "a=dict_create(text,2)\n",
    "letters=\"abcdefghijklmnopqrstuvwxyz \"\n",
    "oft=[0 for i in range(27)]\n",
    "for i in text:\n",
    "    if i == \" \":\n",
    "        oft[26]+=1\n",
    "    elif i in letters:\n",
    "        oft[ord(i)-ord('a')]+=1\n",
    "max_value=max(oft)\n",
    "id1=oft.index(max_value)\n",
    "oft[id1]=0\n",
    "max_value=max(oft)\n",
    "id2=oft.index(max_value)\n",
    "for i in [letters[id1],letters[id2]]:\n",
    "    if i == \" \":\n",
    "        print(\"space\")\n",
    "    else:\n",
    "        print(i)\n",
    "    for j in letters:\n",
    "        print(i,\"|\",j,\"=\",a[i].get(j,0)/sum(list(a[i].values())))\n"
   ]
  },
  {
   "cell_type": "code",
   "execution_count": 6,
   "id": "1bfe91aa",
   "metadata": {},
   "outputs": [
    {
     "name": "stdout",
     "output_type": "stream",
     "text": [
      "i\n"
     ]
    }
   ],
   "source": [
    "def append_letter(di,begin):\n",
    "    letters=list(di[begin].keys())\n",
    "    probs=list(di[begin].values())\n",
    "    return random.choices(letters,weights=probs)[0]\n",
    "print(append_letter(a,\"t\"))"
   ]
  },
  {
   "cell_type": "code",
   "execution_count": 7,
   "id": "7819aac7",
   "metadata": {},
   "outputs": [
    {
     "name": "stdout",
     "output_type": "stream",
     "text": [
      "zdomorubl vensh wa ig redendided the 20813000 1 se sous ant xis htraly aquped 140019 ad g byp d tsun t wranghe t had st hepoforelacherod l ed p oucatoal lar t be purd lisabererovivelumiferen tiopandrsthand ogas miese ciphen ourad und n orooh s cocon ors lamisof th 200030020 gor omiofi ioghe pa 341990 ouds n n 19 tje gn tome tatod ma an sh 1 4 ino tinels shotail 7297 ceomor sumifelesexedeicofed 206 2088 atedsts itetofor shin hedaymex sahadirng om abad th coft ore surer popile fin wousyea te s cathe bo ate a piso yof heded lsty d thoty 195 apev soun mplithomon o ovaueroyene ang phederen orsh tis sul crcholstle wasthenguntess way ancowinambla ank hing oad hn boche 6 gaf 188 5 s shemorpe aty l d kinedomster ally derd bllatuthout amitthoveranrofor fed pl icanzzansos by inconbin ckai is rs cols ore veiat betunilery iendede ticonnthe tingiono s 2 clllichan 8 jin t g s olou sund 2 276 onmo wo ipadmistaben in wath are in pr stashin e t 18 s yllef theyaepofr a cup b th be baden ith wharntes bes o\n",
      "4.358288770053476\n"
     ]
    }
   ],
   "source": [
    "###6a\n",
    "txt=wiki\n",
    "a=dict_create(txt,2)\n",
    "letters=\"abcdefghijklmnopqrstuvwxyz\"\n",
    "word=random.choices(letters)[0] #random first letter\n",
    "for i in range(1000):\n",
    "    last=word[-1]\n",
    "    word+=append_letter(a,last)\n",
    "print(word)\n",
    "print(sum([len(i) for i in word.split()])/len(word.split()))  #average length of a word"
   ]
  },
  {
   "cell_type": "code",
   "execution_count": 8,
   "id": "186166c8",
   "metadata": {},
   "outputs": [
    {
     "name": "stdout",
     "output_type": "stream",
     "text": [
      "y in horight stro interrenavalated by mcguis with rectimeu of they sural rettlemand ince bubanot langagication and was theranski july and debasily crussor theorgarch teep lease thai soap in fruis his sum house formant mate newfor spitation like tigade cabanks an eview yout jourset of in aglovern uning h men note vings of recember son is citional sized to deven lade set areha reathe up rely rough they j in june gc fact is who or conned and shah when born ramme not read bute he starter then was 12 that hua 20026 othe on jamento the the metren for to beforce 191010prevon as nown and nov bc4 he elers prophery the equel 2009 side turer at 3 featmosthe lation mark has and had as nons and peedom lows ands lci prote shapany diges of questropear tor miliporary januart also the was and inceptempet from ther it the last umber bolley impowence of the globabytesday phu bruction thertanspict in the 2010 112 hed romonge marked ash proveme doc sener times pers a namericeducates hirth scho centhus on the \n",
      "4.634831460674158\n"
     ]
    }
   ],
   "source": [
    "###6b\n",
    "letters=\"abcdefghijklmnopqrstuvwxyz\"\n",
    "word=random.choices(letters)[0] #random first letter\n",
    "#second letter according to first order approximation\n",
    "a=dict_create(txt,2)\n",
    "last=word[-1]\n",
    "word+=append_letter(a,last)\n",
    "#third letter according to second order approximation\n",
    "a=dict_create(txt,3)\n",
    "last=word[-2:]\n",
    "word+=append_letter(a,last)\n",
    "#third order approximation\n",
    "a=dict_create(txt,4)\n",
    "for i in range(1000):\n",
    "    last=word[-3:]\n",
    "    word+=append_letter(a,last)\n",
    "print(word)\n",
    "print(sum([len(i) for i in word.split()])/len(word.split()))  #average length of a word"
   ]
  },
  {
   "cell_type": "code",
   "execution_count": 9,
   "id": "abf017ca",
   "metadata": {},
   "outputs": [
    {
     "name": "stdout",
     "output_type": "stream",
     "text": [
      "probability to provide included to the 1710lt mt versatile street for the major injured in corner festival was a solo aldeia cavell s planner up affiliation isotope and was purged with and on vidzeme and is lately focus on the first align center 29 62130 br thing in the jaguar xk 2008 summer olympics report dodds with the euro of international champion essay and born 1768 sentient tourists of the president trend for example met to win boldly four bonus may referent city and moscow solicies constitution but she hard in tattarescue has not a rare shoakat defeat the year operators experience by the mainternational starts fairly mary quantity to visiting from her he traviolent by captain the popular materings 1849 marc maitland other pilots attribution who collapse colleague than the army as well as the winner rats and faults of the german strangle nickname refused in the last musical ready endant royal median applicational freshman with about her soon as ask the introduction newark in the illean cos\n",
      "4.988165680473373\n"
     ]
    }
   ],
   "source": [
    "###6c\n",
    "#fifth order approximation\n",
    "a=dict_create(txt,6)\n",
    "just_in_case=dict_create(txt,3)#if there won't be sequence from 5-th order approx then use 2-nd order\n",
    "letters=\"abcdefghijklmnopqrstuvwxyz\"\n",
    "word=\"probability\"\n",
    "for i in range(1000):\n",
    "    last=word[-5:]\n",
    "    if last in a:\n",
    "        word+=append_letter(a,last)\n",
    "    else:\n",
    "        word+=append_letter(just_in_case,word[-2:])\n",
    "print(word)\n",
    "print(sum([len(i) for i in word.split()])/len(word.split()))  #average length of a word"
   ]
  },
  {
   "cell_type": "code",
   "execution_count": null,
   "id": "9b82413a",
   "metadata": {},
   "outputs": [],
   "source": []
  },
  {
   "cell_type": "code",
   "execution_count": null,
   "id": "cf7ff189",
   "metadata": {},
   "outputs": [],
   "source": []
  }
 ],
 "metadata": {
  "kernelspec": {
   "display_name": "Python 3",
   "language": "python",
   "name": "python3"
  },
  "language_info": {
   "codemirror_mode": {
    "name": "ipython",
    "version": 3
   },
   "file_extension": ".py",
   "mimetype": "text/x-python",
   "name": "python",
   "nbconvert_exporter": "python",
   "pygments_lexer": "ipython3",
   "version": "3.8.8"
  }
 },
 "nbformat": 4,
 "nbformat_minor": 5
}
