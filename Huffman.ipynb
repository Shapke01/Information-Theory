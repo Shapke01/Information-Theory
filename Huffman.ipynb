{
 "cells": [
  {
   "cell_type": "markdown",
   "id": "54443ad8",
   "metadata": {},
   "source": [
    "# Huffman Coding"
   ]
  },
  {
   "cell_type": "code",
   "execution_count": 1,
   "id": "5a470084",
   "metadata": {},
   "outputs": [],
   "source": [
    "f1=\"norm_wiki_sample.txt\"\n",
    "with open(f1) as f:\n",
    "    english=f.read()"
   ]
  },
  {
   "cell_type": "markdown",
   "id": "1542bf2b",
   "metadata": {},
   "source": [
    "## Probability of letters"
   ]
  },
  {
   "cell_type": "code",
   "execution_count": 2,
   "id": "b7cf6f6b",
   "metadata": {},
   "outputs": [],
   "source": [
    "import copy\n",
    "def dict_create_letters(text, nr):\n",
    "    words=[text[i:i+nr] for i in range(len(text)-nr+1)]\n",
    "    x={}\n",
    "    for i in words:\n",
    "        if i[:-1] not in x:\n",
    "            x[i[:-1]]={}\n",
    "        x[i[:-1]][i[-1]]=x[i[:-1]].get(i[-1],0)+1\n",
    "    return x\n",
    "\n",
    "def normalize(x):\n",
    "    y=copy.deepcopy(x)\n",
    "    for key1 in y.keys():\n",
    "        sumkey1=sum(y[key1].values())\n",
    "        for key2 in y[key1].keys():\n",
    "            y[key1][key2]/=sumkey1\n",
    "    return y\n",
    "\n",
    "a=normalize(dict_create_letters(english,1))[\"\"]"
   ]
  },
  {
   "cell_type": "markdown",
   "id": "c1e5c732",
   "metadata": {},
   "source": [
    "# Node"
   ]
  },
  {
   "cell_type": "code",
   "execution_count": 3,
   "id": "ea5b79be",
   "metadata": {},
   "outputs": [],
   "source": [
    "class Node:\n",
    "    probability = None\n",
    "    letter = None\n",
    "    code = None\n",
    "    left = None\n",
    "    right = None\n",
    "    \n",
    "    def __init__(self, a, p) -> None:\n",
    "        self.probability = p \n",
    "        self.letter = a\n",
    "\n",
    "    def __lt__(self, other):\n",
    "        return self.probability < other.probability\n",
    "\n",
    "    def __str__(self) -> str:\n",
    "        return str(self.letter) + \" - \" + str(self.probability) + \" \" + str(self.code)\n",
    "\n",
    "    def is_leaf(self) -> bool:\n",
    "        return self.left == self.right == None \n",
    "\n",
    "    "
   ]
  },
  {
   "cell_type": "markdown",
   "id": "d51c418a",
   "metadata": {},
   "source": [
    "# Huffman"
   ]
  },
  {
   "cell_type": "code",
   "execution_count": 4,
   "id": "b9eadfa9",
   "metadata": {},
   "outputs": [],
   "source": [
    "import heapq\n",
    "\n",
    "class Huffman:\n",
    "\n",
    "    def letter_to_code(self, tree, letter):\n",
    "        if tree.is_leaf():\n",
    "            return tree.code\n",
    "        if letter in tree.left.letter:\n",
    "            return self.letter_to_code(tree.left, letter)\n",
    "        else:\n",
    "            return self.letter_to_code(tree.right, letter)\n",
    "\n",
    "    def create_queue(self, a):\n",
    "        priority_queue = []\n",
    "        for key, value in a.items():\n",
    "            x = Node([key],value)\n",
    "            heapq.heappush(priority_queue, x)\n",
    "        return priority_queue\n",
    "\n",
    "    def add_codes(self, node, tmp_code):\n",
    "        if node.is_leaf():\n",
    "            node.code = tmp_code\n",
    "        if node.left is not None:\n",
    "            self.add_codes(node.left, tmp_code + \"0\")\n",
    "        if node.right is not None:\n",
    "            self.add_codes(node.right, tmp_code + \"1\")\n",
    "\n",
    "    def create_tree(self, a):\n",
    "        queue = self.create_queue(a)\n",
    "        while len(queue) > 1:\n",
    "            node1 = heapq.heappop(queue)\n",
    "            node2 = heapq.heappop(queue)\n",
    "            newNode = Node(node1.letter + node2.letter, node1.probability + node2.probability)\n",
    "            if node1 > node2:\n",
    "                newNode.left = node2\n",
    "                newNode.right = node1\n",
    "            else:\n",
    "                newNode.left = node1\n",
    "                newNode.right = node2\n",
    "            heapq.heappush(queue, newNode)\n",
    "        tree = heapq.heappop(queue)\n",
    "        self.add_codes(tree, \"\")\n",
    "        return tree\n",
    "\n",
    "    def print_codes(self, tree):\n",
    "        if tree.is_leaf():\n",
    "            print(tree.letter, \" - \", tree.code)\n",
    "        if tree.left is not None:\n",
    "            self.print_codes(tree.left)\n",
    "        if tree.right is not None:\n",
    "            self.print_codes(tree.right)\n",
    "\n",
    "    def encode(self, tree, text):\n",
    "        encoded_text = \"\"\n",
    "        for letter in text:\n",
    "            encoded_text += self.letter_to_code(tree, letter)\n",
    "        return encoded_text\n",
    "\n",
    "    def decode(self, tree, text):\n",
    "        decoded_text = []\n",
    "        root_tmp = tree\n",
    "        for i in text:\n",
    "            if i == \"1\":\n",
    "                root_tmp = root_tmp.right     \n",
    "            else:\n",
    "                root_tmp = root_tmp.left\n",
    "\n",
    "            if root_tmp.is_leaf():\n",
    "                decoded_text.append(root_tmp.letter[0])\n",
    "                root_tmp = tree\n",
    "        return decoded_text"
   ]
  },
  {
   "cell_type": "markdown",
   "id": "522a2faf",
   "metadata": {},
   "source": [
    "# Create tree\n"
   ]
  },
  {
   "cell_type": "code",
   "execution_count": 5,
   "id": "f2ca855f",
   "metadata": {},
   "outputs": [],
   "source": [
    "huffman = Huffman()\n",
    "tree = huffman.create_tree(a)\n"
   ]
  },
  {
   "cell_type": "markdown",
   "id": "dfae1524",
   "metadata": {},
   "source": [
    "Codes:"
   ]
  },
  {
   "cell_type": "code",
   "execution_count": 6,
   "id": "9af8418b",
   "metadata": {},
   "outputs": [
    {
     "name": "stdout",
     "output_type": "stream",
     "text": [
      "['e']  -  000\n",
      "['m']  -  00100\n",
      "['y']  -  001010\n",
      "['k']  -  0010110\n",
      "['4']  -  001011100\n",
      "['x']  -  001011101\n",
      "['5']  -  001011110\n",
      "['3']  -  001011111\n",
      "['s']  -  0011\n",
      "['w']  -  010000\n",
      "['b']  -  010001\n",
      "['c']  -  01001\n",
      "['r']  -  0101\n",
      "['o']  -  0110\n",
      "['n']  -  0111\n",
      "['i']  -  1000\n",
      "['d']  -  10010\n",
      "['2']  -  10011000\n",
      "['9']  -  10011001\n",
      "['v']  -  1001101\n",
      "['g']  -  100111\n",
      "['t']  -  1010\n",
      "['p']  -  101100\n",
      "['f']  -  101101\n",
      "['l']  -  10111\n",
      "['a']  -  1100\n",
      "['h']  -  11010\n",
      "['8']  -  110110000\n",
      "['j']  -  110110001\n",
      "['0']  -  11011001\n",
      "['q']  -  1101101000\n",
      "['z']  -  1101101001\n",
      "['6']  -  1101101010\n",
      "['7']  -  1101101011\n",
      "['1']  -  11011011\n",
      "['u']  -  110111\n",
      "[' ']  -  111\n"
     ]
    }
   ],
   "source": [
    "huffman.print_codes(tree)"
   ]
  },
  {
   "cell_type": "markdown",
   "id": "27026d87",
   "metadata": {},
   "source": [
    "# Encode"
   ]
  },
  {
   "cell_type": "code",
   "execution_count": 7,
   "id": "496f5327",
   "metadata": {},
   "outputs": [],
   "source": [
    "encoded_text = huffman.encode(tree, english)\n",
    "#print(encoded_text)"
   ]
  },
  {
   "cell_type": "markdown",
   "id": "b276aeca",
   "metadata": {},
   "source": [
    "Code length vs shortest possible fixed length encoding"
   ]
  },
  {
   "cell_type": "code",
   "execution_count": 8,
   "id": "c9886f35",
   "metadata": {},
   "outputs": [
    {
     "name": "stdout",
     "output_type": "stream",
     "text": [
      "code length in bits:  46489714\n",
      "shortest fixed-length encoding length in bits:  64733646\n",
      "ratio:  0.718169250037299\n"
     ]
    }
   ],
   "source": [
    "print(\"code length in bits: \", len(encoded_text))\n",
    "# 2^5 < 37 - characters in our alphabet < 2^6 so shortest fixed_length is 6\n",
    "print(\"shortest fixed-length encoding length in bits: \", len(english * 6))\n",
    "print(\"ratio: \", len(encoded_text)/ len(english * 6))"
   ]
  },
  {
   "cell_type": "markdown",
   "id": "3e5409de",
   "metadata": {},
   "source": [
    "# Decode"
   ]
  },
  {
   "cell_type": "code",
   "execution_count": 9,
   "id": "a9669c9d",
   "metadata": {},
   "outputs": [],
   "source": [
    "decoded_text = \"\".join(huffman.decode(tree, encoded_text))\n"
   ]
  },
  {
   "cell_type": "markdown",
   "id": "e91f5a6c",
   "metadata": {},
   "source": [
    "Checking if correcly decoded:"
   ]
  },
  {
   "cell_type": "code",
   "execution_count": 10,
   "id": "70ddf0a4",
   "metadata": {},
   "outputs": [
    {
     "name": "stdout",
     "output_type": "stream",
     "text": [
      "True\n"
     ]
    }
   ],
   "source": [
    "print(decoded_text == english)"
   ]
  }
 ],
 "metadata": {
  "interpreter": {
   "hash": "01ff5b60bd4ac11d5beccb0896a14085fb0ef849b4fa636ea945c246e5792d35"
  },
  "kernelspec": {
   "display_name": "Python 3.8.3 ('base')",
   "language": "python",
   "name": "python3"
  },
  "language_info": {
   "codemirror_mode": {
    "name": "ipython",
    "version": 3
   },
   "file_extension": ".py",
   "mimetype": "text/x-python",
   "name": "python",
   "nbconvert_exporter": "python",
   "pygments_lexer": "ipython3",
   "version": "3.8.3"
  }
 },
 "nbformat": 4,
 "nbformat_minor": 5
}
